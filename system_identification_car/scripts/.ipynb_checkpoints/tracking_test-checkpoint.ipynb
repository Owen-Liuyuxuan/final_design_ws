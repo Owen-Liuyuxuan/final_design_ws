{
 "cells": [
  {
   "cell_type": "markdown",
   "metadata": {},
   "source": [
    "## part 1: y = -103  \n",
    "## part 2: 圆心(205, -1) 半径102\n",
    "## part 3: x = 307左右   \n",
    "## part 4: 圆心(255,49),半径52\n",
    "        #切于#102左右  y = 102\n",
    "## part 5: 圆心(255, 149),半径48\n",
    "## part 6: 直线 y = 196\n",
    "## part 7: 圆心(355, 299),半径102\n",
    "## part 8: y = 400.5\n",
    "## part 9: 圆心(155, 349),半径52\n",
    "## part 10: x = 102.5\n",
    "## part 11: 圆心(55, 249) 半径48\n",
    "## part 12: x = 7.25\n",
    "## part 13 : 圆心(-45, 348) 半径52\n",
    "## part 14: y = 400\n",
    "## part 15: 圆心(-245, 298)  半径 102\n",
    "## part 16: y = 196.2\n",
    "## part 17: 圆心(-145, 149） 半径 48\n",
    "## part 18: 圆心(-145, 49) 半径52 \n",
    "## part 19: x = - 197\n",
    "## part 20: 圆心(-95, -1)半径102"
   ]
  },
  {
   "cell_type": "code",
   "execution_count": 1,
   "metadata": {},
   "outputs": [],
   "source": [
    "import numpy as np\n",
    "import matplotlib.pyplot as plt\n",
    "\n",
    "from matplotlib import style\n"
   ]
  },
  {
   "cell_type": "code",
   "execution_count": 2,
   "metadata": {},
   "outputs": [],
   "source": [
    "from mpl_toolkits.mplot3d import Axes3D\n",
    "from mpl_toolkits.mplot3d import axes3d"
   ]
  },
  {
   "cell_type": "code",
   "execution_count": 6,
   "metadata": {},
   "outputs": [
    {
     "data": {
      "text/plain": [
       "Text(0.5, 1.0, 'test track')"
      ]
     },
     "execution_count": 6,
     "metadata": {},
     "output_type": "execute_result"
    }
   ],
   "source": [
    "%matplotlib qt\n",
    "noiseless_MPC = np.load(\"./MPC_data/proposed_noiseless_normalMPC.npy\")\n",
    "plt.plot(noiseless_MPC[:,0], noiseless_MPC[:,1])\n",
    "plt.xlabel(\"x/m\")\n",
    "plt.ylabel(\"y/m\")\n",
    "plt.title(\"test track\")"
   ]
  },
  {
   "cell_type": "code",
   "execution_count": 7,
   "metadata": {},
   "outputs": [
    {
     "data": {
      "text/plain": [
       "[<matplotlib.lines.Line2D at 0x7f6d940b3438>]"
      ]
     },
     "execution_count": 7,
     "metadata": {},
     "output_type": "execute_result"
    }
   ],
   "source": [
    "noiseless_adaptiveMPC = np.load(\"./MPC_data/proposed_noiseless_adaptiveMPC.npy\")\n",
    "plt.plot(noiseless_adaptiveMPC[:,0], noiseless_adaptiveMPC[:,1])"
   ]
  },
  {
   "cell_type": "code",
   "execution_count": 8,
   "metadata": {},
   "outputs": [
    {
     "data": {
      "text/plain": [
       "[<matplotlib.lines.Line2D at 0x7f6d940b3828>]"
      ]
     },
     "execution_count": 8,
     "metadata": {},
     "output_type": "execute_result"
    }
   ],
   "source": [
    "noise_MPC = np.load(\"./MPC_data/proposed_noisy_normalMPC.npy\")\n",
    "plt.plot(noise_MPC[:,0], noise_MPC[:,1])"
   ]
  },
  {
   "cell_type": "code",
   "execution_count": 9,
   "metadata": {},
   "outputs": [
    {
     "data": {
      "text/plain": [
       "[<matplotlib.lines.Line2D at 0x7f6d940e5a90>]"
      ]
     },
     "execution_count": 9,
     "metadata": {},
     "output_type": "execute_result"
    }
   ],
   "source": [
    "noise_adaptive = np.load(\"./MPC_data/proposed_noisy_adaptiveMPC2.npy\")\n",
    "plt.plot(noise_adaptive[:,0], noise_adaptive[:,1])"
   ]
  },
  {
   "cell_type": "code",
   "execution_count": 10,
   "metadata": {},
   "outputs": [
    {
     "data": {
      "text/plain": [
       "[<matplotlib.lines.Line2D at 0x7f6d94099f60>]"
      ]
     },
     "execution_count": 10,
     "metadata": {},
     "output_type": "execute_result"
    }
   ],
   "source": [
    "standard = np.load(\"./MPC_data/standard.npy\")\n",
    "plt.plot(standard[:,0], standard[:,1])"
   ]
  },
  {
   "cell_type": "code",
   "execution_count": 11,
   "metadata": {},
   "outputs": [],
   "source": [
    "from math import *\n",
    "def get_error(x, y):\n",
    "    if x <= 55:\n",
    "        x = 110 - x\n",
    "    if -100<=x<=200 and -110<=y<=-90:\n",
    "        return y - (-103)\n",
    "    if 200<=x and y<=0:\n",
    "        return sqrt((x-205)**2 + (y+1)**2) - 102\n",
    "    if x >= 0 and 0<= y <= 50:\n",
    "        return x - 307\n",
    "    if x >= 255 and 50 <= y <= 110:\n",
    "        return sqrt((x-255)**2 + (y-49)**2) - 52\n",
    "    if 180<=x<=255 and 90<=y<=210:\n",
    "        return sqrt((x-255)**2 + (y-149)**2) - 48\n",
    "    if 255<=x<=350 and 190<=y<=210:\n",
    "        return y - 196\n",
    "    if x >= 350 and y >= 190:\n",
    "        return sqrt((x-355)**2 + (y-299)**2) - 102\n",
    "    if 155<=x<=350 and y >= 390:\n",
    "        return y - 400\n",
    "    if 100<=x<=155 and y >= 350:\n",
    "        return sqrt((x-155)**2 + (y-349)**2) - 52\n",
    "    if 90<=x<=110 and y >= 250:\n",
    "        return x - 102.5\n",
    "    if -5 <= x<= 105 and y <= 250 : \n",
    "        return sqrt((x-55)**2 + (y-249)**2) - 48"
   ]
  },
  {
   "cell_type": "code",
   "execution_count": 12,
   "metadata": {},
   "outputs": [
    {
     "data": {
      "text/plain": [
       "0.2569438184847655"
      ]
     },
     "execution_count": 12,
     "metadata": {},
     "output_type": "execute_result"
    }
   ],
   "source": [
    "summing = 0\n",
    "temp = noise_adaptive.copy()\n",
    "errors = np.zeros_like(temp[:,0])\n",
    "for i in range(len(temp[:,0])):\n",
    "    error = get_error(temp[i,0], temp[i,1])\n",
    "    if error is None:\n",
    "        print(temp[i,0], temp[i,1])\n",
    "    errors[i] = error\n",
    "    summing += error **2\n",
    "summing/(len(temp[:,0]))"
   ]
  },
  {
   "cell_type": "code",
   "execution_count": 101,
   "metadata": {},
   "outputs": [
    {
     "data": {
      "text/plain": [
       "0.26547873379941944"
      ]
     },
     "execution_count": 101,
     "metadata": {},
     "output_type": "execute_result"
    }
   ],
   "source": [
    "summing = 0\n",
    "temp = noiseless_adaptiveMPC.copy()\n",
    "errors = np.zeros(len(temp[:,0]))\n",
    "for i in range(len(temp[:,0])):\n",
    "    error = get_error(temp[i,0], temp[i,1])\n",
    "    if error is None:\n",
    "        print(temp[i,0], temp[i,1])\n",
    "    summing += error **2\n",
    "    errors[i] = error\n",
    "summing/(len(temp[:,0]))"
   ]
  },
  {
   "cell_type": "code",
   "execution_count": 14,
   "metadata": {},
   "outputs": [
    {
     "data": {
      "text/plain": [
       "0.47064192364195995"
      ]
     },
     "execution_count": 14,
     "metadata": {},
     "output_type": "execute_result"
    }
   ],
   "source": [
    "summing = 0\n",
    "temp = noise_MPC.copy()\n",
    "for i in range(len(temp[:,0])):\n",
    "    error = get_error(temp[i,0], temp[i,1])\n",
    "    summing += error **2\n",
    "summing/(len(temp[:,0]))"
   ]
  },
  {
   "cell_type": "code",
   "execution_count": 15,
   "metadata": {},
   "outputs": [
    {
     "data": {
      "text/plain": [
       "0.6561374805407563"
      ]
     },
     "execution_count": 15,
     "metadata": {},
     "output_type": "execute_result"
    }
   ],
   "source": [
    "summing = 0\n",
    "temp = noiseless_MPC.copy()\n",
    "for i in range(len(temp[:,0])):\n",
    "    error = get_error(temp[i,0], temp[i,1])\n",
    "    if error is None:\n",
    "        print(temp[i,0], temp[i,1])\n",
    "    summing += error **2\n",
    "summing/(len(temp[:,0]))"
   ]
  },
  {
   "cell_type": "code",
   "execution_count": 13,
   "metadata": {},
   "outputs": [
    {
     "data": {
      "text/plain": [
       "0.3057759212119352"
      ]
     },
     "execution_count": 13,
     "metadata": {},
     "output_type": "execute_result"
    }
   ],
   "source": [
    "summing = 0\n",
    "temp = standard.copy()\n",
    "for i in range(len(temp[:,0])):\n",
    "    error = get_error(temp[i,0], temp[i,1])\n",
    "    if error is None:\n",
    "        print(temp[i,0], temp[i,1])\n",
    "    summing += error **2\n",
    "summing/(len(temp[:,0]))"
   ]
  },
  {
   "cell_type": "code",
   "execution_count": 29,
   "metadata": {},
   "outputs": [
    {
     "data": {
      "text/plain": [
       "Text(0.5, 1.0, 'shift lane and straignt line')"
      ]
     },
     "execution_count": 29,
     "metadata": {},
     "output_type": "execute_result"
    }
   ],
   "source": [
    "start = 0\n",
    "end = 200\n",
    "plt.plot(noiseless_adaptiveMPC[start:end,0],noiseless_adaptiveMPC[start:end,1], 'b-')\n",
    "plt.plot(noise_adaptive[start:end,0],noise_adaptive[start:end,1], 'c-')\n",
    "plt.plot(noise_MPC[start:end,0],noise_MPC[start:end,1], 'g-')\n",
    "plt.plot(noiseless_MPC[start:end,0],noiseless_MPC[start:end,1], 'y-')\n",
    "\n",
    "plt.plot([45,120], [-103,-103],'r-')\n",
    "plt.legend([\"adaptiveMPC\",'noise adaptiveMPC','MPC','noise MPC','expectation'])\n",
    "plt.xlabel(\"x/m\")\n",
    "plt.ylabel(\"y/m\")\n",
    "plt.title(\"shift lane and straignt line\")"
   ]
  },
  {
   "cell_type": "code",
   "execution_count": 82,
   "metadata": {},
   "outputs": [
    {
     "name": "stderr",
     "output_type": "stream",
     "text": [
      "/home/owen/.local/lib/python3.5/site-packages/ipykernel_launcher.py:9: RuntimeWarning: invalid value encountered in sqrt\n",
      "  if __name__ == '__main__':\n"
     ]
    },
    {
     "data": {
      "text/plain": [
       "Text(0.5, 1.0, 'circle to straight')"
      ]
     },
     "execution_count": 82,
     "metadata": {},
     "output_type": "execute_result"
    }
   ],
   "source": [
    "start = 750\n",
    "end = 900\n",
    "\n",
    "plt.plot(noiseless_adaptiveMPC[start:end,0],noiseless_adaptiveMPC[start:end,1], 'b-')\n",
    "plt.plot(noise_adaptive[start:end,0],noise_adaptive[start:end,1], 'c-')\n",
    "plt.plot(noiseless_MPC[start:end,0],noiseless_MPC[start:end,1], 'y-')\n",
    "plt.plot(noise_MPC[start:end,0],noise_MPC[start:end,1], 'g-')\n",
    "x = np.linspace(304,308,2000)\n",
    "plt.plot(x, -np.sqrt(102.1**2 - (x-205)**2) -1.1, 'r-')\n",
    "plt.plot([307.1, 307.1], [-1.2, 30], 'r-')\n",
    "plt.legend([\"adaptiveMPC\",'noise adaptiveMPC','MPC','noise MPC','expectation'])\n",
    "plt.xlabel(\"x/m\")\n",
    "plt.ylabel(\"y/m\")\n",
    "plt.title(\"circle to straight\")"
   ]
  },
  {
   "cell_type": "code",
   "execution_count": 94,
   "metadata": {},
   "outputs": [
    {
     "name": "stderr",
     "output_type": "stream",
     "text": [
      "/home/owen/.local/lib/python3.5/site-packages/ipykernel_launcher.py:13: RuntimeWarning: invalid value encountered in sqrt\n",
      "  del sys.path[0]\n"
     ]
    },
    {
     "data": {
      "text/plain": [
       "Text(0.5, 1.0, 'circle to circle')"
      ]
     },
     "execution_count": 94,
     "metadata": {},
     "output_type": "execute_result"
    }
   ],
   "source": [
    "start = 1000\n",
    "end = 1350\n",
    "\n",
    "plt.clf()\n",
    "plt.plot(noiseless_adaptiveMPC[start:end,0],noiseless_adaptiveMPC[start:end,1], 'b-')\n",
    "plt.plot(noise_adaptive[start:end,0],noise_adaptive[start:end,1], 'c-')\n",
    "plt.plot(noiseless_MPC[start:end,0],noiseless_MPC[start:end,1], 'y-')\n",
    "plt.plot(noise_MPC[start:end,0],noise_MPC[start:end,1], 'g-')\n",
    "\n",
    "x = np.linspace(255,302,2000)\n",
    "plt.plot(x, np.sqrt(52.1**2 - (x-255)**2) +50, 'r-')\n",
    "x = np.linspace(200,260,2000)\n",
    "plt.plot(x, -np.sqrt(48.1**2 - (x-255)**2) +150, 'r-')\n",
    "plt.legend([\"adaptiveMPC\",'noise adaptiveMPC','MPC','noise MPC','expectation'])\n",
    "plt.xlabel(\"x/m\")\n",
    "plt.ylabel(\"y/m\")\n",
    "plt.title(\"circle to circle\")"
   ]
  },
  {
   "cell_type": "code",
   "execution_count": null,
   "metadata": {},
   "outputs": [],
   "source": []
  },
  {
   "cell_type": "code",
   "execution_count": 52,
   "metadata": {},
   "outputs": [
    {
     "data": {
      "text/plain": [
       "[<matplotlib.lines.Line2D at 0x7f3d8d2b3b00>]"
      ]
     },
     "execution_count": 52,
     "metadata": {},
     "output_type": "execute_result"
    },
    {
     "data": {
      "image/png": "[encoded data removed]",
      "text/plain": [
       "<Figure size 432x288 with 1 Axes>"
      ]
     },
     "metadata": {
      "needs_background": "light"
     },
     "output_type": "display_data"
    }
   ],
   "source": [
    "start = 450\n",
    "end = 850\n",
    "plt.plot(noiseless_MPC[start:end,0], noiseless_MPC[start:end,1], 'b-')\n",
    "plt.plot(noiseless_adaptiveMPC[start:end,0], noiseless_adaptiveMPC[start:end,1],'r-')"
   ]
  },
  {
   "cell_type": "code",
   "execution_count": 58,
   "metadata": {},
   "outputs": [
    {
     "data": {
      "text/plain": [
       "[<matplotlib.lines.Line2D at 0x7f3d8d0e4b38>]"
      ]
     },
     "execution_count": 58,
     "metadata": {},
     "output_type": "execute_result"
    },
    {
     "data": {
      "image/png": "[encoded data removed]",
      "text/plain": [
       "<Figure size 432x288 with 1 Axes>"
      ]
     },
     "metadata": {
      "needs_background": "light"
     },
     "output_type": "display_data"
    }
   ],
   "source": [
    "start = 850\n",
    "end = 950\n",
    "plt.plot(noiseless_MPC[start:end,0], noiseless_MPC[start:end,1], 'b-')\n",
    "plt.plot(noiseless_adaptiveMPC[start:end,0], noiseless_adaptiveMPC[start:end,1],'r-')"
   ]
  },
  {
   "cell_type": "code",
   "execution_count": 65,
   "metadata": {},
   "outputs": [
    {
     "data": {
      "text/plain": [
       "[<matplotlib.lines.Line2D at 0x7f3d8d04c0b8>]"
      ]
     },
     "execution_count": 65,
     "metadata": {},
     "output_type": "execute_result"
    },
    {
     "data": {
      "image/png": "[encoded data removed]",
      "text/plain": [
       "<Figure size 432x288 with 1 Axes>"
      ]
     },
     "metadata": {
      "needs_background": "light"
     },
     "output_type": "display_data"
    }
   ],
   "source": [
    "start = 1150\n",
    "end = 1175\n",
    "plt.plot(noiseless_MPC[start:end,0], noiseless_MPC[start:end,1], 'b-')\n",
    "plt.plot(noiseless_adaptiveMPC[start:end,0], noiseless_adaptiveMPC[start:end,1],'r-')"
   ]
  }
 ],
 "metadata": {
  "kernelspec": {
   "display_name": "Python 2",
   "language": "python",
   "name": "python2"
  },
  "language_info": {
   "codemirror_mode": {
    "name": "ipython",
    "version": 3
   },
   "file_extension": ".py",
   "mimetype": "text/x-python",
   "name": "python",
   "nbconvert_exporter": "python",
   "pygments_lexer": "ipython3",
   "version": "3.5.2"
  }
 },
 "nbformat": 4,
 "nbformat_minor": 2
}
